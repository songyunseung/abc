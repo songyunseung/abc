{
 "cells": [
  {
   "cell_type": "code",
   "execution_count": 11,
   "id": "4ee0e429",
   "metadata": {},
   "outputs": [
    {
     "name": "stdout",
     "output_type": "stream",
     "text": [
      "even_list =  [2, 4, 6, 8, 10]\n"
     ]
    }
   ],
   "source": [
    "even_list = [2,4,6,8,10]\n",
    "print(\"even_list = \",even_list)"
   ]
  },
  {
   "cell_type": "code",
   "execution_count": 70,
   "id": "e85f9d32",
   "metadata": {},
   "outputs": [
    {
     "ename": "NameError",
     "evalue": "name 'a_list' is not defined",
     "output_type": "error",
     "traceback": [
      "\u001b[1;31m---------------------------------------------------------------------------\u001b[0m",
      "\u001b[1;31mNameError\u001b[0m                                 Traceback (most recent call last)",
      "Input \u001b[1;32mIn [70]\u001b[0m, in \u001b[0;36m<cell line: 1>\u001b[1;34m()\u001b[0m\n\u001b[1;32m----> 1\u001b[0m a_list \u001b[38;5;241m=\u001b[39m \u001b[43ma_list\u001b[49m(\u001b[38;5;28mrange\u001b[39m(\u001b[38;5;241m2\u001b[39m,\u001b[38;5;241m11\u001b[39m,\u001b[38;5;241m2\u001b[39m))\n\u001b[0;32m      2\u001b[0m \u001b[38;5;28mprint\u001b[39m(\u001b[38;5;124m\"\u001b[39m\u001b[38;5;124meven_list = \u001b[39m\u001b[38;5;124m\"\u001b[39m,even_list)\n",
      "\u001b[1;31mNameError\u001b[0m: name 'a_list' is not defined"
     ]
    }
   ],
   "source": [
    "a_list = list(range(2,11,2))\n",
    "print(\"even_list = \",even_list)"
   ]
  },
  {
   "cell_type": "code",
   "execution_count": 65,
   "id": "c7d904f5",
   "metadata": {},
   "outputs": [
    {
     "name": "stdout",
     "output_type": "stream",
     "text": [
      "nations =  ['Korea', 'China', 'India', 'Nepal']\n"
     ]
    }
   ],
   "source": [
    "nations = ['Korea', 'China', 'India', 'Nepal']\n",
    "print(\"nations = \",nations)"
   ]
  },
  {
   "cell_type": "code",
   "execution_count": 16,
   "id": "cb1f8604",
   "metadata": {},
   "outputs": [
    {
     "name": "stdout",
     "output_type": "stream",
     "text": [
      "frineds =  ['길동', '철수', '은지', '지은', '영민']\n"
     ]
    }
   ],
   "source": [
    "friends = ['길동', '철수', '은지', '지은', '영민']\n",
    "print(\"frineds = \", friends)"
   ]
  },
  {
   "cell_type": "code",
   "execution_count": 17,
   "id": "063d37ba",
   "metadata": {},
   "outputs": [
    {
     "name": "stdout",
     "output_type": "stream",
     "text": [
      "string =  ['X', 'Y', 'Z']\n"
     ]
    }
   ],
   "source": [
    "string = ['X', 'Y', 'Z']\n",
    "print(\"string = \",string)"
   ]
  },
  {
   "cell_type": "code",
   "execution_count": 18,
   "id": "ab0e45d3",
   "metadata": {},
   "outputs": [
    {
     "name": "stdout",
     "output_type": "stream",
     "text": [
      "prime_list의 첫 원소 :  2\n"
     ]
    }
   ],
   "source": [
    "prime_list = [2, 3, 5, 7]\n",
    "print(\"prime_list의 첫 원소 : \", prime_list[0])"
   ]
  },
  {
   "cell_type": "code",
   "execution_count": 19,
   "id": "abcd8e71",
   "metadata": {},
   "outputs": [
    {
     "name": "stdout",
     "output_type": "stream",
     "text": [
      "prime_list의 마지막 원소 :  7\n"
     ]
    }
   ],
   "source": [
    "prime_list = [2, 3, 5, 7]\n",
    "print(\"prime_list의 마지막 원소 : \", prime_list[3])"
   ]
  },
  {
   "cell_type": "code",
   "execution_count": 20,
   "id": "d3c4f08a",
   "metadata": {},
   "outputs": [
    {
     "name": "stdout",
     "output_type": "stream",
     "text": [
      "prime_list의 마지막 원소 :  7\n"
     ]
    }
   ],
   "source": [
    "prime_list = [2, 3, 5, 7]\n",
    "print(\"prime_list의 마지막 원소 : \", prime_list[-1])"
   ]
  },
  {
   "cell_type": "code",
   "execution_count": 21,
   "id": "fba2f204",
   "metadata": {},
   "outputs": [
    {
     "name": "stdout",
     "output_type": "stream",
     "text": [
      "nations의 첫 원소 :  Korea\n"
     ]
    }
   ],
   "source": [
    "nations = ['Korea', 'China', 'Russia', 'Malaysia']\n",
    "print(\"nations의 첫 원소 : \",nations[0])"
   ]
  },
  {
   "cell_type": "code",
   "execution_count": 22,
   "id": "a681131e",
   "metadata": {},
   "outputs": [
    {
     "name": "stdout",
     "output_type": "stream",
     "text": [
      "nations의 마지막 원소 :  Malaysia\n"
     ]
    }
   ],
   "source": [
    "nations = ['Korea', 'China', 'Russia', 'Malaysia']\n",
    "print(\"nations의 마지막 원소 : \",nations[3])"
   ]
  },
  {
   "cell_type": "code",
   "execution_count": 23,
   "id": "d288a2da",
   "metadata": {},
   "outputs": [
    {
     "name": "stdout",
     "output_type": "stream",
     "text": [
      "nations의 마지막 원소 :  Malaysia\n"
     ]
    }
   ],
   "source": [
    "nations = ['Korea', 'China', 'Russia', 'Malaysia']\n",
    "print(\"nations의 마지막 원소 : \",nations[-1])"
   ]
  },
  {
   "cell_type": "code",
   "execution_count": 24,
   "id": "b3ef5e89",
   "metadata": {},
   "outputs": [
    {
     "name": "stdout",
     "output_type": "stream",
     "text": [
      "소수 목록 :  [2, 3, 5, 7]\n",
      "추가 후 소수 목록 :  [2, 3, 5, 7, 11]\n"
     ]
    }
   ],
   "source": [
    "prime_list = [2, 3, 5, 7]\n",
    "print(\"소수 목록 : \", prime_list)\n",
    "prime_list.append(11)\n",
    "print(\"추가 후 소수 목록 : \",prime_list)"
   ]
  },
  {
   "cell_type": "code",
   "execution_count": 26,
   "id": "0521b31a",
   "metadata": {},
   "outputs": [
    {
     "name": "stdout",
     "output_type": "stream",
     "text": [
      "삭제 전 소수 목록 :  [2, 3, 5, 7, 11]\n",
      "삭제 후 소수 목록 :  [2, 5, 7, 11]\n"
     ]
    }
   ],
   "source": [
    "prime_list = [2, 3, 5, 7, 11]\n",
    "print(\"삭제 전 소수 목록 : \", prime_list)\n",
    "prime_list.remove(3)\n",
    "print(\"삭제 후 소수 목록 : \",prime_list)"
   ]
  },
  {
   "cell_type": "code",
   "execution_count": 27,
   "id": "e3fd3428",
   "metadata": {},
   "outputs": [
    {
     "name": "stdout",
     "output_type": "stream",
     "text": [
      "국가 목록 :  ['Korea', 'China', 'Russia', 'Malaysia']\n",
      "추가 후 국가 목록 :  ['Korea', 'China', 'Russia', 'Malaysia', 'Nepal']\n"
     ]
    }
   ],
   "source": [
    "nations = ['Korea', 'China', 'Russia', 'Malaysia']\n",
    "print(\"국가 목록 : \", nations)\n",
    "nations.append('Nepal')\n",
    "print(\"추가 후 국가 목록 : \", nations)"
   ]
  },
  {
   "cell_type": "code",
   "execution_count": 30,
   "id": "f5f7e229",
   "metadata": {},
   "outputs": [
    {
     "name": "stdout",
     "output_type": "stream",
     "text": [
      "Japan 는(은) 국가 목록에 없습니다.\n",
      "Russia 는(은) 국가 목록애 있습니다.\n"
     ]
    }
   ],
   "source": [
    "if 'Japan' in nations:\n",
    "        print('Japan', \"는(은) 국가 목록애 있습니다.\")\n",
    "else:\n",
    "    print('Japan', \"는(은) 국가 목록에 없습니다.\")\n",
    "    \n",
    "\n",
    "if 'Russia' in nations:\n",
    "    print('Russia', \"는(은) 국가 목록애 있습니다.\")\n",
    "else:\n",
    "    print('Russia', \"는(은) 국가 목록에 없습니다.\")\n"
   ]
  },
  {
   "cell_type": "code",
   "execution_count": 31,
   "id": "f872e387",
   "metadata": {},
   "outputs": [
    {
     "name": "stdout",
     "output_type": "stream",
     "text": [
      "1에서 10까지의 소수 :  [2, 3, 5, 7]\n",
      "최솟값 :  2\n",
      "최댓값 :  7\n",
      "합계 :  17\n",
      "평균 :  4.25\n"
     ]
    }
   ],
   "source": [
    "prime_list = [2, 3, 5, 7]\n",
    "print(\"1에서 10까지의 소수 : \",prime_list)\n",
    "print('최솟값 : ',min(prime_list))\n",
    "print(\"최댓값 : \", max(prime_list))\n",
    "print(\"합계 : \", sum(prime_list))\n",
    "print('평균 : ', sum(prime_list)/len(prime_list))"
   ]
  },
  {
   "cell_type": "code",
   "execution_count": 34,
   "id": "8ede06de",
   "metadata": {},
   "outputs": [
    {
     "name": "stdout",
     "output_type": "stream",
     "text": [
      "국가 목록 :  ['Korea', 'China', 'Russia', 'Malaysia']\n",
      "사전에 가장 먼저 나오는 나라 :  China\n",
      "사전에 가장 뒤에 나오는 나라 :  Russia\n"
     ]
    }
   ],
   "source": [
    "nations = ['Korea', 'China', 'Russia', 'Malaysia']\n",
    "print(\"국가 목록 : \", nations)\n",
    "print(\"사전에 가장 먼저 나오는 나라 : \",min(nations))\n",
    "print(\"사전에 가장 뒤에 나오는 나라 : \",max(nations))"
   ]
  },
  {
   "cell_type": "code",
   "execution_count": 35,
   "id": "d4adf94d",
   "metadata": {},
   "outputs": [
    {
     "name": "stdout",
     "output_type": "stream",
     "text": [
      "[1, 2, 3, [10, 20, 30]]\n"
     ]
    }
   ],
   "source": [
    "a = [1,2,3]\n",
    "b = [10,20,30]\n",
    "a.append(b)\n",
    "print(a)"
   ]
  },
  {
   "cell_type": "code",
   "execution_count": 36,
   "id": "0a6d3dc4",
   "metadata": {},
   "outputs": [
    {
     "name": "stdout",
     "output_type": "stream",
     "text": [
      "[1, 2, 3, 10, 20, 30]\n"
     ]
    }
   ],
   "source": [
    "a = [1,2,3]\n",
    "b = [10,20,30]\n",
    "a.extend(b)\n",
    "print(a)"
   ]
  },
  {
   "cell_type": "code",
   "execution_count": 39,
   "id": "09ec2889",
   "metadata": {},
   "outputs": [
    {
     "name": "stdout",
     "output_type": "stream",
     "text": [
      "nlist =  [1, 2, 3, 4, 5, 6, 7, 8, 9, 10]\n"
     ]
    }
   ],
   "source": [
    "nlist = [1, 2, 3, 4, 5, 6, 7, 8, 9, 10]\n",
    "print(\"nlist = \", nlist)"
   ]
  },
  {
   "cell_type": "code",
   "execution_count": 40,
   "id": "6cb07cb1",
   "metadata": {},
   "outputs": [
    {
     "name": "stdout",
     "output_type": "stream",
     "text": [
      "nlist =  [0, 1, 2, 3, 4, 5, 6, 7, 8, 9, 10]\n"
     ]
    }
   ],
   "source": [
    "nlist.insert(0,0)\n",
    "print(\"nlist = \", nlist)"
   ]
  },
  {
   "cell_type": "code",
   "execution_count": 41,
   "id": "1d5a07b0",
   "metadata": {},
   "outputs": [
    {
     "name": "stdout",
     "output_type": "stream",
     "text": [
      "nlist =  [10, 9, 8, 7, 6, 5, 4, 3, 2, 1, 0]\n"
     ]
    }
   ],
   "source": [
    "nlist.reverse()\n",
    "print(\"nlist = \", nlist)"
   ]
  },
  {
   "cell_type": "code",
   "execution_count": 42,
   "id": "d7c06edc",
   "metadata": {},
   "outputs": [
    {
     "name": "stdout",
     "output_type": "stream",
     "text": [
      "마지막 원소 =  0\n",
      "nlist =  [10, 9, 8, 7, 6, 5, 4, 3, 2, 1]\n"
     ]
    }
   ],
   "source": [
    "print(\"마지막 원소 = \", nlist.pop())\n",
    "print(\"nlist = \", nlist)"
   ]
  },
  {
   "cell_type": "code",
   "execution_count": 45,
   "id": "867335b1",
   "metadata": {},
   "outputs": [
    {
     "name": "stdout",
     "output_type": "stream",
     "text": [
      "반복할 정수를 입력하시오 : 3\n",
      "[1, 2, 3, 1, 2, 3, 1, 2, 3]\n"
     ]
    }
   ],
   "source": [
    "n = int(input(\"반복할 정수를 입력하시오 : \"))\n",
    "list = [1,2,3]\n",
    "print(list*n)"
   ]
  },
  {
   "cell_type": "code",
   "execution_count": 47,
   "id": "ed1d12c1",
   "metadata": {},
   "outputs": [
    {
     "name": "stdout",
     "output_type": "stream",
     "text": [
      "반복할 정수를 입력하시오 : 4\n",
      "[1, 2, 3, 1, 2, 3, 1, 2, 3, 1, 2, 3]\n"
     ]
    }
   ],
   "source": [
    "n = int(input(\"반복할 정수를 입력하시오 : \"))\n",
    "list = [1,2,3]\n",
    "print(list*n)"
   ]
  },
  {
   "cell_type": "code",
   "execution_count": 71,
   "id": "d39c103d",
   "metadata": {},
   "outputs": [
    {
     "ename": "TypeError",
     "evalue": "'list' object is not callable",
     "output_type": "error",
     "traceback": [
      "\u001b[1;31m---------------------------------------------------------------------------\u001b[0m",
      "\u001b[1;31mTypeError\u001b[0m                                 Traceback (most recent call last)",
      "Input \u001b[1;32mIn [71]\u001b[0m, in \u001b[0;36m<cell line: 2>\u001b[1;34m()\u001b[0m\n\u001b[0;32m      1\u001b[0m n_list \u001b[38;5;241m=\u001b[39m [\u001b[38;5;241m0\u001b[39m]\n\u001b[1;32m----> 2\u001b[0m n_list \u001b[38;5;241m=\u001b[39m \u001b[38;5;28;43mlist\u001b[39;49m\u001b[43m(\u001b[49m\u001b[38;5;28;43mrange\u001b[39;49m\u001b[43m(\u001b[49m\u001b[38;5;241;43m0\u001b[39;49m\u001b[43m,\u001b[49m\u001b[43m \u001b[49m\u001b[38;5;241;43m15\u001b[39;49m\u001b[43m,\u001b[49m\u001b[43m \u001b[49m\u001b[38;5;241;43m1\u001b[39;49m\u001b[43m)\u001b[49m\u001b[43m)\u001b[49m\n\u001b[0;32m      3\u001b[0m \u001b[38;5;28mprint\u001b[39m(\u001b[38;5;124m\"\u001b[39m\u001b[38;5;124mn_list = \u001b[39m\u001b[38;5;124m\"\u001b[39m, n_list)\n",
      "\u001b[1;31mTypeError\u001b[0m: 'list' object is not callable"
     ]
    }
   ],
   "source": [
    "n_list = [0]\n",
    "n_list = list(range(0, 15, 1))\n",
    "print(\"n_list = \", n_list)"
   ]
  },
  {
   "cell_type": "code",
   "execution_count": null,
   "id": "3d7570cf",
   "metadata": {},
   "outputs": [],
   "source": []
  },
  {
   "cell_type": "code",
   "execution_count": null,
   "id": "964304ce",
   "metadata": {},
   "outputs": [],
   "source": []
  },
  {
   "cell_type": "code",
   "execution_count": null,
   "id": "274db41d",
   "metadata": {},
   "outputs": [],
   "source": []
  }
 ],
 "metadata": {
  "kernelspec": {
   "display_name": "Python 3 (ipykernel)",
   "language": "python",
   "name": "python3"
  },
  "language_info": {
   "codemirror_mode": {
    "name": "ipython",
    "version": 3
   },
   "file_extension": ".py",
   "mimetype": "text/x-python",
   "name": "python",
   "nbconvert_exporter": "python",
   "pygments_lexer": "ipython3",
   "version": "3.9.12"
  }
 },
 "nbformat": 4,
 "nbformat_minor": 5
}
