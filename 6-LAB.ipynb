{
 "cells": [
  {
   "cell_type": "code",
   "execution_count": 2,
   "id": "e8f23945",
   "metadata": {},
   "outputs": [
    {
     "name": "stdout",
     "output_type": "stream",
     "text": [
      "학번 변동 후 person =  ('홍길동', 20190003, 179)\n"
     ]
    }
   ],
   "source": [
    "person = ('홍길동',20190001,179)\n",
    "a_list = list(person)\n",
    "a_list[1] = 20190003\n",
    "person = tuple(a_list)\n",
    "print(\"학번 변동 후 person = \",person)"
   ]
  },
  {
   "cell_type": "code",
   "execution_count": 4,
   "id": "4fdd81d1",
   "metadata": {},
   "outputs": [
    {
     "name": "stdout",
     "output_type": "stream",
     "text": [
      "10 제곱 = 100, 20 제곱 = 400\n"
     ]
    }
   ],
   "source": [
    "x = 10\n",
    "y = 20\n",
    "def square(x,y):\n",
    "    x = x **2\n",
    "    y = y **2\n",
    "    return x, y\n",
    "x_sq, y_sq = square(x,y)\n",
    "print('{} 제곱 = {}, {} 제곱 = {}'.format(x, x_sq, y, y_sq))"
   ]
  },
  {
   "cell_type": "code",
   "execution_count": 5,
   "id": "d7c29fd1",
   "metadata": {},
   "outputs": [
    {
     "data": {
      "text/plain": [
       "(10, 20, 30, 40, 50, 60)"
      ]
     },
     "execution_count": 5,
     "metadata": {},
     "output_type": "execute_result"
    }
   ],
   "source": [
    "(10,20,30) + (40,50,60)"
   ]
  },
  {
   "cell_type": "code",
   "execution_count": 7,
   "id": "fe9d3fcd",
   "metadata": {},
   "outputs": [
    {
     "name": "stdout",
     "output_type": "stream",
     "text": [
      "Hello Hello Hello \n",
      "('Hello ', 'Hello ', 'Hello ')\n"
     ]
    }
   ],
   "source": [
    "print('Hello '*3) #Hello 문자열을 3번 출력하는것이고 아래는 Hello 문자열을 가지는 튜플을 3번 출력하는것이다\n",
    "print(('Hello ',)*3)"
   ]
  },
  {
   "cell_type": "code",
   "execution_count": 10,
   "id": "198fdd20",
   "metadata": {},
   "outputs": [
    {
     "name": "stdout",
     "output_type": "stream",
     "text": [
      "s1 =  {'apple', 'mango', 'banana'}\n"
     ]
    }
   ],
   "source": [
    "lst = ['apple', 'mango', 'banana']\n",
    "s1 = set(lst)\n",
    "print(\"s1 = \",s1)"
   ]
  },
  {
   "cell_type": "code",
   "execution_count": 11,
   "id": "8af8ac4f",
   "metadata": {},
   "outputs": [
    {
     "name": "stdout",
     "output_type": "stream",
     "text": [
      "s2 =  {' ', 'r', 'f', 'a', 'n', 'o', 'G', 'd', 'e', 't'}\n"
     ]
    }
   ],
   "source": [
    "greet = 'Good afternoon'\n",
    "s2 = set(greet)\n",
    "print(\"s2 = \",s2)"
   ]
  },
  {
   "cell_type": "code",
   "execution_count": 12,
   "id": "360fbcf9",
   "metadata": {},
   "outputs": [
    {
     "data": {
      "text/plain": [
       "{10, 20, 30, 40, 50, 60, 70}"
      ]
     },
     "execution_count": 12,
     "metadata": {},
     "output_type": "execute_result"
    }
   ],
   "source": [
    "s1 = {10,20,30,40}\n",
    "s2 = {30,40,50,60,70}\n",
    "s1|s2"
   ]
  },
  {
   "cell_type": "code",
   "execution_count": 15,
   "id": "af159d30",
   "metadata": {},
   "outputs": [
    {
     "data": {
      "text/plain": [
       "{30, 40}"
      ]
     },
     "execution_count": 15,
     "metadata": {},
     "output_type": "execute_result"
    }
   ],
   "source": [
    "s1&s2"
   ]
  },
  {
   "cell_type": "code",
   "execution_count": 14,
   "id": "0b52cfd9",
   "metadata": {},
   "outputs": [
    {
     "data": {
      "text/plain": [
       "{10, 20}"
      ]
     },
     "execution_count": 14,
     "metadata": {},
     "output_type": "execute_result"
    }
   ],
   "source": [
    "s1-s2"
   ]
  },
  {
   "cell_type": "code",
   "execution_count": 16,
   "id": "03836f4f",
   "metadata": {},
   "outputs": [
    {
     "data": {
      "text/plain": [
       "{10, 20, 50, 60, 70}"
      ]
     },
     "execution_count": 16,
     "metadata": {},
     "output_type": "execute_result"
    }
   ],
   "source": [
    "s1^s2"
   ]
  },
  {
   "cell_type": "code",
   "execution_count": 18,
   "id": "e9b1e29d",
   "metadata": {},
   "outputs": [
    {
     "data": {
      "text/plain": [
       "False"
      ]
     },
     "execution_count": 18,
     "metadata": {},
     "output_type": "execute_result"
    }
   ],
   "source": [
    "s1.issubset(s2)"
   ]
  },
  {
   "cell_type": "code",
   "execution_count": 19,
   "id": "283b43bb",
   "metadata": {},
   "outputs": [
    {
     "data": {
      "text/plain": [
       "False"
      ]
     },
     "execution_count": 19,
     "metadata": {},
     "output_type": "execute_result"
    }
   ],
   "source": [
    "s1.issuperset(s2)"
   ]
  },
  {
   "cell_type": "code",
   "execution_count": 20,
   "id": "0546dcf2",
   "metadata": {},
   "outputs": [
    {
     "data": {
      "text/plain": [
       "False"
      ]
     },
     "execution_count": 20,
     "metadata": {},
     "output_type": "execute_result"
    }
   ],
   "source": [
    "s1.isdisjoint(s2)"
   ]
  },
  {
   "cell_type": "code",
   "execution_count": 23,
   "id": "9d223f25",
   "metadata": {},
   "outputs": [
    {
     "name": "stdout",
     "output_type": "stream",
     "text": [
      "AxB =  {(2, 'A'), (1, 'B'), (1, 'C'), (1, 'A'), (2, 'B'), (2, 'C')}\n",
      "BxA =  {('C', 1), ('B', 2), ('C', 2), ('A', 1), ('B', 1), ('A', 2)}\n",
      "AxA =  {(1, 1), (1, 2), (2, 1), (2, 2)}\n",
      "BxB =  {('A', 'C'), ('B', 'C'), ('A', 'A'), ('C', 'C'), ('B', 'A'), ('C', 'A'), ('A', 'B'), ('B', 'B'), ('C', 'B')}\n"
     ]
    }
   ],
   "source": [
    "A = {1,2}\n",
    "B = {'A', 'B', 'C'}\n",
    "def product_set(set1, set2):\n",
    "    res = set()\n",
    "    for i in set1:\n",
    "        for j in set2:\n",
    "            res = res | {(i,j)}\n",
    "    return res\n",
    "AxB = product_set(A,B)\n",
    "print('AxB = ',AxB)\n",
    "BxA = product_set(B,A)\n",
    "print('BxA = ',BxA)\n",
    "AxA = product_set(A,A)\n",
    "print('AxA = ',AxA)\n",
    "BxB = product_set(B,B)\n",
    "print('BxB = ',BxB)"
   ]
  },
  {
   "cell_type": "code",
   "execution_count": 45,
   "id": "f279bb95",
   "metadata": {},
   "outputs": [
    {
     "name": "stdout",
     "output_type": "stream",
     "text": [
      "주사위를 세 번 던져 발생할 수 있는 사건은 216 가지 경우가 존재합니다.\n"
     ]
    }
   ],
   "source": [
    "def tuple_sum(tup):\n",
    "    if isinstance(tup,int):\n",
    "        return tup\n",
    "    else:\n",
    "        accum =0\n",
    "        for element in tup:\n",
    "            accum += tuple_sum(element)\n",
    "    return accum\n",
    "\n",
    "def product_set(set1, set2):\n",
    "    res = set()\n",
    "    for i in set1:\n",
    "        for j in set2:\n",
    "            res = res | {(i,j)}\n",
    "    return res\n",
    "\n",
    "def exp(input_set,exponent):\n",
    "    res = input_set\n",
    "    for _ in range(exponent-1):\n",
    "        res = product_set(res,input_set)\n",
    "    return res\n",
    "a = {1,2,3,4,5,6}\n",
    "a2 = exp(a,3)\n",
    "    \n",
    "\n",
    "print(\"주사위를 세 번 던져 발생할 수 있는 사건은\", len(a2), \"가지 경우가 존재합니다.\")"
   ]
  },
  {
   "cell_type": "code",
   "execution_count": 27,
   "id": "3eafb9f9",
   "metadata": {},
   "outputs": [
    {
     "name": "stdout",
     "output_type": "stream",
     "text": [
      "주사위를 세 번 던져 나온 눈의 합이 10 이상인 경우는  135 가지입니다.\n"
     ]
    }
   ],
   "source": [
    "sums = [tuple_sum(tup) for tup in a2]\n",
    "num = 0\n",
    "for i in sums:\n",
    "    if i >=10:\n",
    "        num += 1\n",
    "print(\"주사위를 세 번 던져 나온 눈의 합이 10 이상인 경우는 \", num, \"가지입니다.\")"
   ]
  },
  {
   "cell_type": "code",
   "execution_count": 47,
   "id": "34616dc7",
   "metadata": {},
   "outputs": [
    {
     "name": "stdout",
     "output_type": "stream",
     "text": [
      "눈의 합으로 3 이상을 얻을 확률 100.00%\n",
      "눈의 합으로 4 이상을 얻을 확률  99.54%\n",
      "눈의 합으로 5 이상을 얻을 확률  98.15%\n",
      "눈의 합으로 6 이상을 얻을 확률  95.37%\n",
      "눈의 합으로 7 이상을 얻을 확률  90.74%\n",
      "눈의 합으로 8 이상을 얻을 확률  83.80%\n",
      "눈의 합으로 9 이상을 얻을 확률  74.07%\n",
      "눈의 합으로 10 이상을 얻을 확률  62.50%\n",
      "눈의 합으로 11 이상을 얻을 확률  50.00%\n",
      "눈의 합으로 12 이상을 얻을 확률  37.50%\n",
      "눈의 합으로 13 이상을 얻을 확률  25.93%\n",
      "눈의 합으로 14 이상을 얻을 확률  16.20%\n",
      "눈의 합으로 15 이상을 얻을 확률   9.26%\n",
      "눈의 합으로 16 이상을 얻을 확률   4.63%\n",
      "눈의 합으로 17 이상을 얻을 확률   1.85%\n",
      "눈의 합으로 18 이상을 얻을 확률   0.46%\n"
     ]
    }
   ],
   "source": [
    "def prob_over(x):\n",
    "    sums = [tuple_sum(tup) for tup in a2]\n",
    "    num = 0\n",
    "    for i in sums:\n",
    "        if i >=x:\n",
    "            num += 1\n",
    "    return num/len(a2)*100\n",
    "list = [3,4,5,6,7,8,9,10,11,12,13,14,15,16,17,18]\n",
    "for i in list:\n",
    "    x = i\n",
    "    prob_over(x)\n",
    "    print('눈의 합으로 {} 이상을 얻을 확률 {:6.2f}%'.format(x,prob_over(x)))\n",
    "    "
   ]
  },
  {
   "cell_type": "code",
   "execution_count": null,
   "id": "443e3248",
   "metadata": {},
   "outputs": [],
   "source": []
  }
 ],
 "metadata": {
  "kernelspec": {
   "display_name": "Python 3 (ipykernel)",
   "language": "python",
   "name": "python3"
  },
  "language_info": {
   "codemirror_mode": {
    "name": "ipython",
    "version": 3
   },
   "file_extension": ".py",
   "mimetype": "text/x-python",
   "name": "python",
   "nbconvert_exporter": "python",
   "pygments_lexer": "ipython3",
   "version": "3.9.12"
  }
 },
 "nbformat": 4,
 "nbformat_minor": 5
}
