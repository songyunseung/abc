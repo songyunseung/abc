{
 "cells": [
  {
   "cell_type": "code",
   "execution_count": 2,
   "id": "e10a8180",
   "metadata": {},
   "outputs": [
    {
     "name": "stdout",
     "output_type": "stream",
     "text": [
      "[0, 1, 2, 3, 4, 5, 6, 7, 8, 9, 10, 11, 12, 13, 14]\n"
     ]
    }
   ],
   "source": [
    "n_list = list(range(15))\n",
    "print(n_list)"
   ]
  },
  {
   "cell_type": "code",
   "execution_count": 4,
   "id": "9906ef41",
   "metadata": {},
   "outputs": [
    {
     "name": "stdout",
     "output_type": "stream",
     "text": [
      "[0, 1, 2, 3, 4]\n"
     ]
    }
   ],
   "source": [
    "n_list = list(range(15))\n",
    "s_list1 = n_list[:5]\n",
    "print(s_list)"
   ]
  },
  {
   "cell_type": "code",
   "execution_count": 7,
   "id": "7cb4a85f",
   "metadata": {},
   "outputs": [
    {
     "name": "stdout",
     "output_type": "stream",
     "text": [
      "[5, 6, 7, 8, 9, 10]\n"
     ]
    }
   ],
   "source": [
    "n_list = list(range(15))\n",
    "s_list2 = n_list[5:11]\n",
    "print(s_list2)"
   ]
  },
  {
   "cell_type": "code",
   "execution_count": 9,
   "id": "58dd22d8",
   "metadata": {},
   "outputs": [
    {
     "name": "stdout",
     "output_type": "stream",
     "text": [
      "[11, 12, 13, 14]\n"
     ]
    }
   ],
   "source": [
    "n_list = list(range(15))\n",
    "s_list3 = n_list[11:16]\n",
    "print(s_list3)"
   ]
  },
  {
   "cell_type": "code",
   "execution_count": 10,
   "id": "00362d89",
   "metadata": {},
   "outputs": [
    {
     "name": "stdout",
     "output_type": "stream",
     "text": [
      "[2, 4, 6, 8, 10]\n"
     ]
    }
   ],
   "source": [
    "n_list = list(range(15))\n",
    "s_list4 = n_list[2:11:2]\n",
    "print(s_list4)"
   ]
  },
  {
   "cell_type": "code",
   "execution_count": 11,
   "id": "f059eff6",
   "metadata": {},
   "outputs": [
    {
     "name": "stdout",
     "output_type": "stream",
     "text": [
      "[10, 9, 8, 7, 6]\n"
     ]
    }
   ],
   "source": [
    "n_list = list(range(15))\n",
    "s_list5 = n_list[-5:-10:-1]\n",
    "print(s_list5)"
   ]
  },
  {
   "cell_type": "code",
   "execution_count": 13,
   "id": "a51b70ae",
   "metadata": {},
   "outputs": [
    {
     "name": "stdout",
     "output_type": "stream",
     "text": [
      "[10, 8, 6, 4, 2]\n"
     ]
    }
   ],
   "source": [
    "n_list = list(range(15))\n",
    "s_list6 = n_list[-5:-14:-2]\n",
    "print(s_list6)"
   ]
  },
  {
   "cell_type": "code",
   "execution_count": 3,
   "id": "f23fca70",
   "metadata": {},
   "outputs": [
    {
     "data": {
      "text/plain": [
       "'Seoul'"
      ]
     },
     "execution_count": 3,
     "metadata": {},
     "output_type": "execute_result"
    }
   ],
   "source": [
    "captial_dic = {'Korea':'Seoul', 'China':'Beijing','USA':'Washington DC'}\n",
    "captial_dic['Korea']"
   ]
  },
  {
   "cell_type": "code",
   "execution_count": 5,
   "id": "2f17d30c",
   "metadata": {},
   "outputs": [
    {
     "data": {
      "text/plain": [
       "'Beijing'"
      ]
     },
     "execution_count": 5,
     "metadata": {},
     "output_type": "execute_result"
    }
   ],
   "source": [
    "captial_dic['China']"
   ]
  },
  {
   "cell_type": "code",
   "execution_count": 6,
   "id": "c7a08694",
   "metadata": {},
   "outputs": [
    {
     "data": {
      "text/plain": [
       "'Washington DC'"
      ]
     },
     "execution_count": 6,
     "metadata": {},
     "output_type": "execute_result"
    }
   ],
   "source": [
    "captial_dic['USA']"
   ]
  },
  {
   "cell_type": "code",
   "execution_count": 8,
   "id": "15961ed0",
   "metadata": {},
   "outputs": [
    {
     "name": "stdout",
     "output_type": "stream",
     "text": [
      "apple의 가격은  5000 원입니다.\n",
      "banana의 가격은  4000 원입니다.\n",
      "grape의 가격은  5300 원입니다.\n",
      "melon의 가격은  6500 원입니다.\n"
     ]
    }
   ],
   "source": [
    "fruits_dic = {'apple':5000,'banana':4000,'grape':5300,'melon':6500}\n",
    "print(\"apple의 가격은 \",fruits_dic['apple'],\"원입니다.\")\n",
    "print(\"banana의 가격은 \",fruits_dic['banana'],\"원입니다.\")\n",
    "print(\"grape의 가격은 \",fruits_dic['grape'],\"원입니다.\")\n",
    "print(\"melon의 가격은 \",fruits_dic['melon'],\"원입니다.\")"
   ]
  },
  {
   "cell_type": "code",
   "execution_count": 9,
   "id": "dd0c0d10",
   "metadata": {},
   "outputs": [
    {
     "data": {
      "text/plain": [
       "{'이름': '홍길동', '나이': 26, '몸무게': 82, '특기': '분신술'}"
      ]
     },
     "execution_count": 9,
     "metadata": {},
     "output_type": "execute_result"
    }
   ],
   "source": [
    "person = {'이름':'홍길동', '나이':26, '몸무게':82}\n",
    "person['특기'] = '분신술'\n",
    "person\n"
   ]
  },
  {
   "cell_type": "code",
   "execution_count": 10,
   "id": "283a5a73",
   "metadata": {},
   "outputs": [
    {
     "data": {
      "text/plain": [
       "{'이름': '홍길동', '나이': 26, '몸무게': 82, '특기': '분신술', '아버지': '홍판서'}"
      ]
     },
     "execution_count": 10,
     "metadata": {},
     "output_type": "execute_result"
    }
   ],
   "source": [
    "person['아버지'] = '홍판서'\n",
    "person"
   ]
  },
  {
   "cell_type": "code",
   "execution_count": 11,
   "id": "0ea41c55",
   "metadata": {},
   "outputs": [
    {
     "data": {
      "text/plain": [
       "{'이름': '홍길동', '몸무게': 82, '특기': '분신술', '아버지': '홍판서'}"
      ]
     },
     "execution_count": 11,
     "metadata": {},
     "output_type": "execute_result"
    }
   ],
   "source": [
    "del person['나이']\n",
    "person"
   ]
  },
  {
   "cell_type": "code",
   "execution_count": 12,
   "id": "3ba51796",
   "metadata": {},
   "outputs": [
    {
     "data": {
      "text/plain": [
       "True"
      ]
     },
     "execution_count": 12,
     "metadata": {},
     "output_type": "execute_result"
    }
   ],
   "source": [
    "captial_dic = {'Korea':'Seoul', 'China':'Beijing','USA':'Washington DC'}\n",
    "'Korea' in captial_dic"
   ]
  },
  {
   "cell_type": "code",
   "execution_count": 13,
   "id": "2e7cd48f",
   "metadata": {},
   "outputs": [
    {
     "data": {
      "text/plain": [
       "True"
      ]
     },
     "execution_count": 13,
     "metadata": {},
     "output_type": "execute_result"
    }
   ],
   "source": [
    "'China' in captial_dic"
   ]
  },
  {
   "cell_type": "code",
   "execution_count": 14,
   "id": "7fda2439",
   "metadata": {},
   "outputs": [
    {
     "data": {
      "text/plain": [
       "False"
      ]
     },
     "execution_count": 14,
     "metadata": {},
     "output_type": "execute_result"
    }
   ],
   "source": [
    "'Indonesia' in captial_dic"
   ]
  },
  {
   "cell_type": "code",
   "execution_count": 15,
   "id": "f13bd231",
   "metadata": {},
   "outputs": [
    {
     "data": {
      "text/plain": [
       "False"
      ]
     },
     "execution_count": 15,
     "metadata": {},
     "output_type": "execute_result"
    }
   ],
   "source": [
    "'Beijing' in captial_dic"
   ]
  },
  {
   "cell_type": "code",
   "execution_count": 18,
   "id": "2a611295",
   "metadata": {},
   "outputs": [
    {
     "data": {
      "text/plain": [
       "dict_keys(['apple', 'melon', 'banana', 'orange'])"
      ]
     },
     "execution_count": 18,
     "metadata": {},
     "output_type": "execute_result"
    }
   ],
   "source": [
    "fruits_dic = {'apple':6000,'melon':3000,'banana':5000,'orange':7000}\n",
    "fruits_dic.keys()\n"
   ]
  },
  {
   "cell_type": "code",
   "execution_count": 19,
   "id": "a1e180eb",
   "metadata": {},
   "outputs": [
    {
     "data": {
      "text/plain": [
       "dict_values([6000, 3000, 5000, 7000])"
      ]
     },
     "execution_count": 19,
     "metadata": {},
     "output_type": "execute_result"
    }
   ],
   "source": [
    "fruits_dic.values()"
   ]
  },
  {
   "cell_type": "code",
   "execution_count": 20,
   "id": "e1e4a1cf",
   "metadata": {},
   "outputs": [
    {
     "data": {
      "text/plain": [
       "{'melon': 3000, 'banana': 5000, 'orange': 7000}"
      ]
     },
     "execution_count": 20,
     "metadata": {},
     "output_type": "execute_result"
    }
   ],
   "source": [
    "fruits_dic.pop('apple')\n",
    "fruits_dic"
   ]
  },
  {
   "cell_type": "code",
   "execution_count": 21,
   "id": "716627a6",
   "metadata": {},
   "outputs": [
    {
     "data": {
      "text/plain": [
       "{}"
      ]
     },
     "execution_count": 21,
     "metadata": {},
     "output_type": "execute_result"
    }
   ],
   "source": [
    "fruits_dic.clear()\n",
    "fruits_dic"
   ]
  },
  {
   "cell_type": "code",
   "execution_count": 27,
   "id": "a9619f3b",
   "metadata": {},
   "outputs": [
    {
     "data": {
      "text/plain": [
       "['apple', 'melon', 'banana', 'orange']"
      ]
     },
     "execution_count": 27,
     "metadata": {},
     "output_type": "execute_result"
    }
   ],
   "source": [
    "fruits_dic = {'apple':6000,'melon':3000,'banana':5000,'orange':4000}\n",
    "a_list = []\n",
    "for i in fruits_dic:\n",
    "    a_list.append(i)\n",
    "a_list"
   ]
  },
  {
   "cell_type": "code",
   "execution_count": 30,
   "id": "0242f842",
   "metadata": {},
   "outputs": [
    {
     "data": {
      "text/plain": [
       "[6000, 3000, 5000, 4000]"
      ]
     },
     "execution_count": 30,
     "metadata": {},
     "output_type": "execute_result"
    }
   ],
   "source": [
    "fruits_dic = {'apple':6000,'melon':3000,'banana':5000,'orange':4000}\n",
    "a_list = []\n",
    "for i in fruits_dic.values():\n",
    "    a_list.append(i)\n",
    "a_list"
   ]
  },
  {
   "cell_type": "code",
   "execution_count": 31,
   "id": "903a4055",
   "metadata": {},
   "outputs": [
    {
     "name": "stdout",
     "output_type": "stream",
     "text": [
      "fruits_dic 딕셔너리의 항목의 개수 :  4\n"
     ]
    }
   ],
   "source": [
    "print(\"fruits_dic 딕셔너리의 항목의 개수 : \",len(fruits_dic))"
   ]
  },
  {
   "cell_type": "code",
   "execution_count": 35,
   "id": "f48d61dc",
   "metadata": {},
   "outputs": [
    {
     "name": "stdout",
     "output_type": "stream",
     "text": [
      "apple is in fruits_dic.\n",
      "mango is not in fruits_dic\n"
     ]
    }
   ],
   "source": [
    "if 'apple' in fruits_dic:\n",
    "    print('apple is in fruits_dic.')\n",
    "else:\n",
    "    print('apple is not in fruits_dic')\n",
    "if 'mango' in fruits_dic:\n",
    "    print('mango is in fruits_dic')\n",
    "else:\n",
    "    print('mango is not in fruits_dic')"
   ]
  },
  {
   "cell_type": "code",
   "execution_count": 37,
   "id": "ea641056",
   "metadata": {},
   "outputs": [
    {
     "name": "stdout",
     "output_type": "stream",
     "text": [
      "1919 년  3 월  1 일은 삼일절입니다.\n"
     ]
    }
   ],
   "source": [
    "the_day = (1919,3,1)\n",
    "year,month,day = the_day\n",
    "print(year,\"년 \", month, \"월 \", day, \"일은 삼일절입니다.\")"
   ]
  },
  {
   "cell_type": "code",
   "execution_count": 38,
   "id": "559776db",
   "metadata": {},
   "outputs": [
    {
     "name": "stdout",
     "output_type": "stream",
     "text": [
      "a =  10\n",
      "b =  20\n",
      "c =  30\n"
     ]
    }
   ],
   "source": [
    "list = [10,20,30]\n",
    "tuple1 = tuple(list)\n",
    "a,b,c = tuple1\n",
    "print(\"a = \",a)\n",
    "print(\"b = \",b)\n",
    "print(\"c = \",c)"
   ]
  },
  {
   "cell_type": "code",
   "execution_count": 40,
   "id": "0aa872cc",
   "metadata": {},
   "outputs": [
    {
     "name": "stdout",
     "output_type": "stream",
     "text": [
      "person =  ('홍길동', 20190001, 179)\n"
     ]
    }
   ],
   "source": [
    "tuple1 = ('홍길동',20190001,179)\n",
    "person = tuple(tuple1)\n",
    "print(\"person = \",person)"
   ]
  },
  {
   "cell_type": "code",
   "execution_count": 41,
   "id": "b73f8eb6",
   "metadata": {},
   "outputs": [
    {
     "ename": "TypeError",
     "evalue": "'tuple' object does not support item assignment",
     "output_type": "error",
     "traceback": [
      "\u001b[1;31m---------------------------------------------------------------------------\u001b[0m",
      "\u001b[1;31mTypeError\u001b[0m                                 Traceback (most recent call last)",
      "Input \u001b[1;32mIn [41]\u001b[0m, in \u001b[0;36m<cell line: 1>\u001b[1;34m()\u001b[0m\n\u001b[1;32m----> 1\u001b[0m person[\u001b[38;5;241m1\u001b[39m] \u001b[38;5;241m=\u001b[39m \u001b[38;5;241m20190003\u001b[39m\n",
      "\u001b[1;31mTypeError\u001b[0m: 'tuple' object does not support item assignment"
     ]
    }
   ],
   "source": [
    "person[1] = 20190003"
   ]
  }
 ],
 "metadata": {
  "kernelspec": {
   "display_name": "Python 3 (ipykernel)",
   "language": "python",
   "name": "python3"
  },
  "language_info": {
   "codemirror_mode": {
    "name": "ipython",
    "version": 3
   },
   "file_extension": ".py",
   "mimetype": "text/x-python",
   "name": "python",
   "nbconvert_exporter": "python",
   "pygments_lexer": "ipython3",
   "version": "3.9.12"
  }
 },
 "nbformat": 4,
 "nbformat_minor": 5
}
