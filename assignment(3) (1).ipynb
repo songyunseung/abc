{
 "cells": [
  {
   "cell_type": "code",
   "execution_count": 26,
   "id": "041f947d",
   "metadata": {},
   "outputs": [
    {
     "name": "stdout",
     "output_type": "stream",
     "text": [
      "세 정수를 입력하시오 : 9 12 4\n",
      "4 9 12\n"
     ]
    }
   ],
   "source": [
    "num1, num2, num3= map(int, input(\"세 정수를 입력하시오 : \").split())\n",
    "#한 번의 input실행으로 3개의 정수를 한 번에 입력받기 위하여 map()함수와 split()함수를 사용했습니다\n",
    "\n",
    "if num1 < num2 and num2 <num3:\n",
    "    print(num1, num2, num3)\n",
    "else:\n",
    "    if num1 < num2 and num1 < num3 and num3 < num2:\n",
    "        print(num1, num3, num2)\n",
    "    else:\n",
    "        if num2 < num1 and num1 < num3:\n",
    "            print(num2,num1,num3)\n",
    "        else:\n",
    "            if num2 < num1 and num2 < num3 and num3 < num1:\n",
    "                print(num2, num3, num1)\n",
    "            else:\n",
    "                if num3 < num2 and num2 < num1:\n",
    "                    print(num3, num2, num1)\n",
    "                else:\n",
    "                    print(num3, num1, num2)\n",
    "    \n",
    "            "
   ]
  },
  {
   "cell_type": "code",
   "execution_count": 27,
   "id": "13af890f",
   "metadata": {},
   "outputs": [
    {
     "name": "stdout",
     "output_type": "stream",
     "text": [
      "세 정수를 입력하시오 : 99 12 4\n",
      "4 12 99\n"
     ]
    }
   ],
   "source": [
    "num1, num2, num3= map(int, input(\"세 정수를 입력하시오 : \").split())\n",
    "\n",
    "if num1 < num2 and num2 <num3:\n",
    "    print(num1, num2, num3)\n",
    "else:\n",
    "    if num1 < num2 and num1 < num3 and num3 < num2:\n",
    "        print(num1, num3, num2)\n",
    "    else:\n",
    "        if num2 < num1 and num1 < num3:\n",
    "            print(num2,num1,num3)\n",
    "        else:\n",
    "            if num2 < num1 and num2 < num3 and num3 < num1:\n",
    "                print(num2, num3, num1)\n",
    "            else:\n",
    "                if num3 < num2 and num2 < num1:\n",
    "                    print(num3, num2, num1)\n",
    "                else:\n",
    "                    print(num3, num1, num2)"
   ]
  },
  {
   "cell_type": "code",
   "execution_count": 28,
   "id": "5f384262",
   "metadata": {},
   "outputs": [
    {
     "name": "stdout",
     "output_type": "stream",
     "text": [
      "점의 좌표 x, y를 입력하시오 : 2 4\n",
      "1사분면에 있음\n"
     ]
    }
   ],
   "source": [
    "x, y= map(int, input(\"점의 좌표 x, y를 입력하시오 : \").split())\n",
    "if x > 0 and y > 0:   #if else 문과 and연산자를 사용하여 조건식을 구성하였습니다\n",
    "    print(\"1사분면에 있음\")\n",
    "else:\n",
    "    if x < 0 and y > 0:\n",
    "        print(\"2사분면에 있음\")\n",
    "    else:\n",
    "        if x < 0 and y < 0:\n",
    "            print(\"3사분면에 있음\")\n",
    "        else:\n",
    "            if x > 0 and y < 0:\n",
    "                print(\"4사분면에 있음\")"
   ]
  },
  {
   "cell_type": "code",
   "execution_count": 29,
   "id": "a37f50bb",
   "metadata": {},
   "outputs": [
    {
     "name": "stdout",
     "output_type": "stream",
     "text": [
      "점의 좌표 x, y를 입력하시오 : -2 -4\n",
      "3사분면에 있음\n"
     ]
    }
   ],
   "source": [
    "x, y= map(int, input(\"점의 좌표 x, y를 입력하시오 : \").split())\n",
    "if x > 0 and y > 0:\n",
    "    print(\"1사분면에 있음\")\n",
    "else:\n",
    "    if x < 0 and y > 0:\n",
    "        print(\"2사분면에 있음\")\n",
    "    else:\n",
    "        if x < 0 and y < 0:\n",
    "            print(\"3사분면에 있음\")\n",
    "        else:\n",
    "            if x > 0 and y < 0:\n",
    "                print(\"4사분면에 있음\")"
   ]
  },
  {
   "cell_type": "code",
   "execution_count": 30,
   "id": "091c6946",
   "metadata": {},
   "outputs": [
    {
     "name": "stdout",
     "output_type": "stream",
     "text": [
      "게임점수를 입력하시오 : 4222\n",
      "고수입니다\n"
     ]
    }
   ],
   "source": [
    "game_score = int(input(\"게임점수를 입력하시오 : \"))\n",
    "if game_score >= 1000:\n",
    "    print(\"고수입니다\")\n",
    "else:\n",
    "    print(\"입문자입니다.\")"
   ]
  },
  {
   "cell_type": "code",
   "execution_count": 31,
   "id": "978699d5",
   "metadata": {},
   "outputs": [
    {
     "name": "stdout",
     "output_type": "stream",
     "text": [
      "게임점수를 입력하시오 : 4\n",
      "입문자입니다.\n"
     ]
    }
   ],
   "source": [
    "game_score = int(input(\"게임점수를 입력하시오 : \"))\n",
    "if game_score >= 1000:\n",
    "    print(\"고수입니다\")\n",
    "else:\n",
    "    print(\"입문자입니다.\")"
   ]
  },
  {
   "cell_type": "code",
   "execution_count": 41,
   "id": "bc82f1f9",
   "metadata": {},
   "outputs": [
    {
     "name": "stdout",
     "output_type": "stream",
     "text": [
      "숫자를 입력하세요 :5\n",
      "5 는 소수입니다.\n"
     ]
    }
   ],
   "source": [
    "n = int(input(\"숫자를 입력하세요 :\"))\n",
    "prime = True\n",
    "for i in range(2,n-1):\n",
    "    if n % i == 0:   # %는 나머지를 연산하는데 n % i == 0 이라는것은 i가 n의 약수라는 뜻이된다.\n",
    "        print(n,\"는 소수가 아닙니다\")\n",
    "        prime = False\n",
    "        break\n",
    "if prime:\n",
    "        print(n,\"는 소수입니다.\")"
   ]
  },
  {
   "cell_type": "code",
   "execution_count": 42,
   "id": "badf3623",
   "metadata": {},
   "outputs": [
    {
     "name": "stdout",
     "output_type": "stream",
     "text": [
      "숫자를 입력하세요 :9\n",
      "9 는 소수가 아닙니다\n"
     ]
    }
   ],
   "source": [
    "n = int(input(\"숫자를 입력하세요 :\"))\n",
    "prime = True\n",
    "for i in range(2,n-1):\n",
    "    if n % i == 0:\n",
    "        print(n,\"는 소수가 아닙니다\")\n",
    "        prime = False\n",
    "        break\n",
    "if prime:\n",
    "        print(n,\"는 소수입니다.\")"
   ]
  },
  {
   "cell_type": "code",
   "execution_count": null,
   "id": "1c5c9adf",
   "metadata": {},
   "outputs": [],
   "source": [
    "print(\"세 자리의 암스트롱 수 : \")\n",
    "for i in range(100,1000,1):\n",
    "    if i == ((i//100) ** 3 + ((i%100)//10)** 3 + (i%10) ** 3):   #i//100은 i의 백의 자리 수를 계산하고 i%100//10은 10의 자리수를 계산한다 i%10은 1의 자리수를 계산한다\n",
    "        print(i)\n",
    "        "
   ]
  },
  {
   "cell_type": "code",
   "execution_count": null,
   "id": "a7729fac",
   "metadata": {},
   "outputs": [],
   "source": [
    "j = 1\n",
    "result = 1\n",
    "while j < 10:\n",
    "    num = int(input(\"1에서 9까지의 수를 입력하세요 : \"))\n",
    "    if num < 1 or num > 9:\n",
    "        continue  # while문으로 이동한다\n",
    "    else:\n",
    "        if num>=1 and num <= 9:\n",
    "            break  # while문을 종료한다\n",
    "for i in range(1,10):\n",
    "    result = num * i\n",
    "    print(num,\" * \", i, \"= \",result)"
   ]
  },
  {
   "cell_type": "code",
   "execution_count": null,
   "id": "08c79c8e",
   "metadata": {},
   "outputs": [],
   "source": []
  }
 ],
 "metadata": {
  "kernelspec": {
   "display_name": "Python 3.9.12 ('base')",
   "language": "python",
   "name": "python3"
  },
  "language_info": {
   "codemirror_mode": {
    "name": "ipython",
    "version": 3
   },
   "file_extension": ".py",
   "mimetype": "text/x-python",
   "name": "python",
   "nbconvert_exporter": "python",
   "pygments_lexer": "ipython3",
   "version": "3.9.12"
  },
  "vscode": {
   "interpreter": {
    "hash": "a077222d77dfe082b8f1dd562ad70e458ac2ab76993a0b248ab0476e32e9e8dd"
   }
  }
 },
 "nbformat": 4,
 "nbformat_minor": 5
}
