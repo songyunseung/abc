{
 "cells": [
  {
   "cell_type": "code",
   "execution_count": 2,
   "id": "3e6b125b",
   "metadata": {},
   "outputs": [
    {
     "name": "stdout",
     "output_type": "stream",
     "text": [
      "3 * 2 = 6\n",
      "3 * 3 = 9\n",
      "3 * 4 = 12\n",
      "3 * 5 = 15\n",
      "3 * 6 = 18\n",
      "5 * 2 = 10\n",
      "5 * 3 = 15\n",
      "5 * 4 = 20\n",
      "5 * 5 = 25\n",
      "5 * 6 = 30\n",
      "7 * 2 = 14\n",
      "7 * 3 = 21\n",
      "7 * 4 = 28\n",
      "7 * 5 = 35\n",
      "7 * 6 = 42\n"
     ]
    }
   ],
   "source": [
    "list1 = [3,5,7]\n",
    "list2 = [2,3,4,5,6]\n",
    "for i in list1: #이중반복문으로 표현하였다\n",
    "    for j in list2:\n",
    "        print(i,\"*\", j,\"=\", i*j)"
   ]
  },
  {
   "cell_type": "code",
   "execution_count": 3,
   "id": "eefbc55d",
   "metadata": {},
   "outputs": [
    {
     "name": "stdout",
     "output_type": "stream",
     "text": [
      "[2, 3, 4, 5, 6]\n",
      "[6, 5, 4, 3, 2]\n"
     ]
    }
   ],
   "source": [
    "a=[2,3,4,5,6]\n",
    "print(a)\n",
    "rev_a = []\n",
    "for i in range(5):\n",
    "    rev_a.append(a.pop()) #append함수는 리스트에 항목을 추가하고 pop함수는 리스트의 값을 반환하고 제거한다\n",
    "print(rev_a)"
   ]
  },
  {
   "cell_type": "code",
   "execution_count": 5,
   "id": "a904ae33",
   "metadata": {},
   "outputs": [
    {
     "name": "stdout",
     "output_type": "stream",
     "text": [
      "리스트 원소들:  [10, 20, 30, 50, 60]\n",
      "리스트 원소들의 합:  170\n"
     ]
    }
   ],
   "source": [
    "n_list = [10,20,30,50,60]\n",
    "s = 0\n",
    "print(\"리스트 원소들: \",n_list)\n",
    "for i in n_list:\n",
    "    s = s + i\n",
    "print(\"리스트 원소들의 합: \",s)"
   ]
  },
  {
   "cell_type": "code",
   "execution_count": 6,
   "id": "1c6f7e5b",
   "metadata": {},
   "outputs": [
    {
     "name": "stdout",
     "output_type": "stream",
     "text": [
      "리스트 원소들:  [10, 20, 30, 50, 60]\n",
      "리스트 원소들 중 최댓값:  60\n"
     ]
    }
   ],
   "source": [
    "n_list = [10,20,30,50,60]\n",
    "print(\"리스트 원소들: \",n_list)\n",
    "num = 0\n",
    "for i in n_list:\n",
    "    if i > num:\n",
    "        num = i\n",
    "print(\"리스트 원소들 중 최댓값: \",num)"
   ]
  },
  {
   "cell_type": "code",
   "execution_count": 11,
   "id": "125c0e25",
   "metadata": {},
   "outputs": [
    {
     "name": "stdout",
     "output_type": "stream",
     "text": [
      "가장 길이가 짧은 문자열 :  abc\n",
      "가장 길이가 긴 문자열 :  bcdefg\n"
     ]
    }
   ],
   "source": [
    "s_list = ['abc','bcd','bcdefg','abba','cddc','opq']\n",
    "num0 = []\n",
    "num1 = 0\n",
    "num2 = 100\n",
    "for j in s_list:\n",
    "    if len(j) < num2:  #len함수를 활용하여 문자열의 길이를 측정하였다\n",
    "            num2 = len(j)\n",
    "            num0 = j\n",
    "print(\"가장 길이가 짧은 문자열 : \",num0)           \n",
    "            \n",
    "for i in s_list:\n",
    "    if len(i) > num1:\n",
    "        num1 = len(i)\n",
    "        num0 = i\n",
    "\n",
    "print(\"가장 길이가 긴 문자열 : \",num0)\n",
    "        \n"
   ]
  },
  {
   "cell_type": "code",
   "execution_count": 12,
   "id": "1128af36",
   "metadata": {},
   "outputs": [
    {
     "name": "stdout",
     "output_type": "stream",
     "text": [
      "가장 길이가 짧은 문자열 :  ['abc', 'bcd', 'opq']\n"
     ]
    }
   ],
   "source": [
    "s_list = ['abc','bcd','bcdefg','abba','cddc','opq']\n",
    "num0 = []\n",
    "num2 = 100\n",
    "for j in s_list:\n",
    "    if len(j) <= num2:\n",
    "            num2 = len(j)\n",
    "            num0.append(j)\n",
    "print(\"가장 길이가 짧은 문자열 : \",num0)  "
   ]
  },
  {
   "cell_type": "code",
   "execution_count": 15,
   "id": "879fc030",
   "metadata": {},
   "outputs": [
    {
     "name": "stdout",
     "output_type": "stream",
     "text": [
      "5개의 수를 입력하세요  : 45 67 20 34 2\n",
      "합 :  168\n",
      "평균 :  33.6\n",
      "최댓값 :  67\n",
      "최솟값 :  2\n"
     ]
    }
   ],
   "source": [
    "n_list = []\n",
    "num0, num1, num2, num3, num4= map(int, input(\"5개의 수를 입력하세요  : \").split()) #map,split함수를 홯용하여 5개의 정수를 한번에 입력받았다\n",
    "n_list.append(num0)\n",
    "n_list.append(num1)\n",
    "n_list.append(num2)\n",
    "n_list.append(num3)\n",
    "n_list.append(num4)\n",
    "print(\"합 : \",sum(n_list))\n",
    "print(\"평균 : \",sum(n_list)/len(n_list))\n",
    "print(\"최댓값 : \", max(n_list))\n",
    "print(\"최솟값 : \", min(n_list))\n"
   ]
  },
  {
   "cell_type": "code",
   "execution_count": null,
   "id": "3d077c5e",
   "metadata": {},
   "outputs": [],
   "source": [
    "animals = ['dog', 'cat', 'tiger', 'lion']\n",
    "print(\"animals = \",animals)\n",
    "for i in range(3):\n",
    "    s = animals[0]\n",
    "    animals[i] = animals[i+1]\n",
    "animals[3] = animals[0]\n",
    "print(\"animals = \".animals)\n",
    "for j in range(4):\n",
    "    print(\"I love \",animals[i], \".\")"
   ]
  },
  {
   "cell_type": "code",
   "execution_count": null,
   "id": "b9455c8c",
   "metadata": {},
   "outputs": [],
   "source": []
  },
  {
   "cell_type": "code",
   "execution_count": null,
   "id": "570519a7",
   "metadata": {},
   "outputs": [],
   "source": []
  }
 ],
 "metadata": {
  "kernelspec": {
   "display_name": "Python 3 (ipykernel)",
   "language": "python",
   "name": "python3"
  },
  "language_info": {
   "codemirror_mode": {
    "name": "ipython",
    "version": 3
   },
   "file_extension": ".py",
   "mimetype": "text/x-python",
   "name": "python",
   "nbconvert_exporter": "python",
   "pygments_lexer": "ipython3",
   "version": "3.9.12"
  }
 },
 "nbformat": 4,
 "nbformat_minor": 5
}
