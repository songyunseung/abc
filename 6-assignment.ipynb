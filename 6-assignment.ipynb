{
 "cells": [
  {
   "cell_type": "code",
   "execution_count": 26,
   "id": "d513661b",
   "metadata": {},
   "outputs": [
    {
     "name": "stdout",
     "output_type": "stream",
     "text": [
      "문자열을 입력하시오 : A nut for a jar of tuna...\n",
      "회문입니다.\n"
     ]
    }
   ],
   "source": [
    "import re\n",
    "c = input(\"문자열을 입력하시오 : \")\n",
    "c = re.sub(r'[ .]','',c) #공백과 마침표를 c에서 제거한다\n",
    "a_list = [x.lower() for x in c]  #대문자를 소문자로 변경한다\n",
    "\n",
    "\n",
    "j = -1\n",
    "for i in range(len(a_list)):\n",
    "    if a_list[i] == a_list[j]:\n",
    "        j -= 1\n",
    "        if -j == len(a_list)//2 + 1: \n",
    "            print(\"회문입니다.\")\n",
    "            break\n",
    "    else:\n",
    "        print(\"회문이 아닙니다.\")\n",
    "        break        "
   ]
  },
  {
   "cell_type": "code",
   "execution_count": 27,
   "id": "e2c38a1c",
   "metadata": {},
   "outputs": [
    {
     "name": "stdout",
     "output_type": "stream",
     "text": [
      "[5, 3, 6, 2, 9, 3, 8, 7, 12]\n"
     ]
    }
   ],
   "source": [
    "a = [5,6,3,9,2,12,3,8,7]\n",
    "for i in range(len(a)-1):\n",
    "    if a[i] > a[i+1]: #인덱스가 작은 리스트의 값이 인덱스가 큰 리스트의 값보다 크면 두 수를 서로 교환한다\n",
    "        a[i],a[i+1] = a[i+1],a[i]\n",
    "print(a)"
   ]
  },
  {
   "cell_type": "code",
   "execution_count": 32,
   "id": "37fda62a",
   "metadata": {},
   "outputs": [
    {
     "name": "stdout",
     "output_type": "stream",
     "text": [
      "[2, 3, 3, 5, 6, 7, 8, 9, 12]\n"
     ]
    }
   ],
   "source": [
    "a = [5,6,3,9,2,12,3,8,7]\n",
    "num = len(a)-1\n",
    "for i in range(num): #이중반복문을 사용하여 정렬한다\n",
    "    for j in range(num):\n",
    "        if a[j] > a[j+1]:\n",
    "            a[j],a[j+1] = a[j+1],a[j]\n",
    "\n",
    "print(a)"
   ]
  },
  {
   "cell_type": "code",
   "execution_count": 40,
   "id": "a138b560",
   "metadata": {},
   "outputs": [
    {
     "name": "stdout",
     "output_type": "stream",
     "text": [
      "두 정수를 입력하시오 : 4 2\n",
      "3 번째에 (4, 2) 요소가 있습니다.\n"
     ]
    }
   ],
   "source": [
    "my_list = [(1,2),(4,5),(4,2),(3,1),(9,4)]\n",
    "num1, num2= map(int, input(\"두 정수를 입력하시오 : \").split()) #map()함수와 split()함수로 두개의 정수를 입력받았다\n",
    "a = (num1,num2)\n",
    "for i in my_list:\n",
    "    if i == a:\n",
    "        print(my_list.index(i)+1,\"번째에\",i,\"요소가 있습니다.\")\n",
    "        break\n",
    "    else:\n",
    "        if i != a:\n",
    "            num1,num2 = num2,num1 #튜플은 서로 교환이 가능하다\n",
    "            a = (num1,num2) #교환된 값을 a에 저장한다\n",
    "            if i == a:\n",
    "                print(a,\" 요소는 없으나 \",my_list.index(i)+1,\"번째에\",i,\"요소가 있습니다.\")\n",
    "            else:\n",
    "                if i == my_list[4]:\n",
    "                    print(\"이 요소는 없습니다.\")"
   ]
  },
  {
   "cell_type": "code",
   "execution_count": 42,
   "id": "d247bfb7",
   "metadata": {},
   "outputs": [
    {
     "name": "stdout",
     "output_type": "stream",
     "text": [
      "두 정수를 입력하시오 : 4 9\n",
      "(4, 9)  요소는 없으나  5 번째에 (9, 4) 요소가 있습니다.\n"
     ]
    }
   ],
   "source": [
    "my_list = [(1,2),(4,5),(4,2),(3,1),(9,4)]\n",
    "num1, num2= map(int, input(\"두 정수를 입력하시오 : \").split())\n",
    "a = (num1,num2)\n",
    "b = ()\n",
    "for i in my_list:\n",
    "    if i == a:\n",
    "        print(my_list.index(i)+1,\"번째에\",i,\"요소가 있습니다.\")\n",
    "        break\n",
    "    else:\n",
    "        if i != a:\n",
    "            num1,num2 = num2,num1 \n",
    "            b = a\n",
    "            a = (num1,num2) \n",
    "            if i == a:\n",
    "                print(b,\" 요소는 없으나 \",my_list.index(i)+1,\"번째에\",i,\"요소가 있습니다.\")\n",
    "            else:\n",
    "                if i == my_list[4]:\n",
    "                    print(\"이 요소는 없습니다.\")"
   ]
  },
  {
   "cell_type": "code",
   "execution_count": 43,
   "id": "ed2b22f3",
   "metadata": {},
   "outputs": [
    {
     "name": "stdout",
     "output_type": "stream",
     "text": [
      "두 정수를 입력하시오 : 7 3\n",
      "이 요소는 없습니다.\n"
     ]
    }
   ],
   "source": [
    "my_list = [(1,2),(4,5),(4,2),(3,1),(9,4)]\n",
    "num1, num2= map(int, input(\"두 정수를 입력하시오 : \").split())\n",
    "a = (num1,num2)\n",
    "b = ()\n",
    "for i in my_list:\n",
    "    if i == a:\n",
    "        print(my_list.index(i)+1,\"번째에\",i,\"요소가 있습니다.\")\n",
    "        break\n",
    "    else:\n",
    "        if i != a:\n",
    "            num1,num2 = num2,num1\n",
    "            b = a\n",
    "            a = (num1,num2)\n",
    "            if i == a:\n",
    "                print(b,\" 요소는 없으나 \",my_list.index(i)+1,\"번째에\",i,\"요소가 있습니다.\")\n",
    "            else:\n",
    "                if i == my_list[4]:\n",
    "                    print(\"이 요소는 없습니다.\")"
   ]
  },
  {
   "cell_type": "code",
   "execution_count": 49,
   "id": "e0ca71d3",
   "metadata": {},
   "outputs": [
    {
     "name": "stdout",
     "output_type": "stream",
     "text": [
      "일일 매출 기록: (100, 121, 120, 130, 140, 120, 122, 123, 190, 125)\n",
      "지난 10일 동안 전일대비 매출이 감소한 날은  3 일입니다.\n"
     ]
    }
   ],
   "source": [
    "a = (100,121,120,130,140,120,122,123,190,125)\n",
    "s = 0\n",
    "print(\"일일 매출 기록:\",a)\n",
    "for i in range(len(a)-1): #a[i]와a[i+1]을 비교하기에 range(len(a)-1)로 해주어야한다\n",
    "    if a[i] > a[i+1]:\n",
    "        s += 1\n",
    "print(\"지난 10일 동안 전일대비 매출이 감소한 날은 \",s,'일입니다.')"
   ]
  },
  {
   "cell_type": "code",
   "execution_count": 50,
   "id": "e5d965aa",
   "metadata": {},
   "outputs": [
    {
     "name": "stdout",
     "output_type": "stream",
     "text": [
      "주어진 튜플:  (1, 2, 5, 4, 3, 1, 1, 1, 3, 2, 1, 5, 7, 7)\n",
      "중복 제거 튜플:  (1, 2, 3, 4, 5, 7)\n"
     ]
    }
   ],
   "source": [
    "a = (1,2,5,4,3,1,1,1,3,2,1,5,7,7)\n",
    "print(\"주어진 튜플: \",a)\n",
    "s = set(a) #집합은 중복된 값을 허용하지 않는 특성이 있다\n",
    "a = tuple(s)\n",
    "print(\"중복 제거 튜플: \",a)\n"
   ]
  }
 ],
 "metadata": {
  "kernelspec": {
   "display_name": "Python 3 (ipykernel)",
   "language": "python",
   "name": "python3"
  },
  "language_info": {
   "codemirror_mode": {
    "name": "ipython",
    "version": 3
   },
   "file_extension": ".py",
   "mimetype": "text/x-python",
   "name": "python",
   "nbconvert_exporter": "python",
   "pygments_lexer": "ipython3",
   "version": "3.9.12"
  }
 },
 "nbformat": 4,
 "nbformat_minor": 5
}
