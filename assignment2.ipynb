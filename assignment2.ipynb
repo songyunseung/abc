{
 "cells": [
  {
   "cell_type": "code",
   "execution_count": 9,
   "id": "446e9095",
   "metadata": {},
   "outputs": [
    {
     "name": "stdout",
     "output_type": "stream",
     "text": [
      "32.0\n",
      "41.0\n",
      "50.0\n",
      "59.0\n",
      "68.0\n",
      "77.0\n",
      "86.0\n",
      "95.0\n",
      "104.0\n",
      "113.0\n",
      "122.0\n"
     ]
    }
   ],
   "source": [
    "for celsius in range(0,51,5):\n",
    "    fahrenheit = (9/5)*celsius + 32\n",
    "    print(fahrenheit)\n"
   ]
  },
  {
   "cell_type": "code",
   "execution_count": 11,
   "id": "9b29902e",
   "metadata": {},
   "outputs": [
    {
     "name": "stdout",
     "output_type": "stream",
     "text": [
      "2 3\n"
     ]
    }
   ],
   "source": [
    "a = 2*2//2\n",
    "b = 3//2*3\n",
    "print(a,b)"
   ]
  },
  {
   "cell_type": "code",
   "execution_count": 13,
   "id": "f7c25a04",
   "metadata": {},
   "outputs": [
    {
     "name": "stdout",
     "output_type": "stream",
     "text": [
      "233168\n"
     ]
    }
   ],
   "source": [
    "sum1=0\n",
    "sum2=0\n",
    "sum3=0\n",
    "for i in range(3,1000,3):\n",
    "    sum1 = sum1 + i\n",
    "for j in range(5,1000,5):\n",
    "    sum2 = sum2 + j\n",
    "for k in range(15,1000,15):\n",
    "    sum3 = sum3 + k\n",
    "result = sum1 + sum2 - sum3\n",
    "print(result)"
   ]
  },
  {
   "cell_type": "code",
   "execution_count": null,
   "id": "bd7c134d",
   "metadata": {},
   "outputs": [],
   "source": []
  }
 ],
 "metadata": {
  "kernelspec": {
   "display_name": "Python 3 (ipykernel)",
   "language": "python",
   "name": "python3"
  },
  "language_info": {
   "codemirror_mode": {
    "name": "ipython",
    "version": 3
   },
   "file_extension": ".py",
   "mimetype": "text/x-python",
   "name": "python",
   "nbconvert_exporter": "python",
   "pygments_lexer": "ipython3",
   "version": "3.9.12"
  }
 },
 "nbformat": 4,
 "nbformat_minor": 5
}
